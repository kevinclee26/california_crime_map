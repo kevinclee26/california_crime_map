{
 "cells": [
  {
   "cell_type": "code",
   "execution_count": 16,
   "id": "bd0cf651-f020-47bb-b771-a5a6ed9ea010",
   "metadata": {},
   "outputs": [],
   "source": [
    "import pandas as pd\n",
    "from config import apiKey\n",
    "import requests\n",
    "import sqlalchemy as sql"
   ]
  },
  {
   "cell_type": "code",
   "execution_count": 2,
   "id": "53ad1116-4482-41d1-80d8-caf4d659e23a",
   "metadata": {},
   "outputs": [
    {
     "data": {
      "text/html": [
       "<div>\n",
       "<style scoped>\n",
       "    .dataframe tbody tr th:only-of-type {\n",
       "        vertical-align: middle;\n",
       "    }\n",
       "\n",
       "    .dataframe tbody tr th {\n",
       "        vertical-align: top;\n",
       "    }\n",
       "\n",
       "    .dataframe thead th {\n",
       "        text-align: right;\n",
       "    }\n",
       "</style>\n",
       "<table border=\"1\" class=\"dataframe\">\n",
       "  <thead>\n",
       "    <tr style=\"text-align: right;\">\n",
       "      <th></th>\n",
       "      <th>City</th>\n",
       "      <th>Population</th>\n",
       "      <th>Violent\\ncrime</th>\n",
       "      <th>Murder and\\nnonnegligent\\nmanslaughter</th>\n",
       "      <th>Rape</th>\n",
       "      <th>Robbery</th>\n",
       "      <th>Aggravated\\nassault</th>\n",
       "      <th>Property\\ncrime</th>\n",
       "      <th>Burglary</th>\n",
       "      <th>Larceny-\\ntheft</th>\n",
       "      <th>Motor\\nvehicle\\ntheft</th>\n",
       "      <th>Arson</th>\n",
       "    </tr>\n",
       "  </thead>\n",
       "  <tbody>\n",
       "    <tr>\n",
       "      <th>0</th>\n",
       "      <td>Adelanto</td>\n",
       "      <td>34,491</td>\n",
       "      <td>276</td>\n",
       "      <td>1</td>\n",
       "      <td>20</td>\n",
       "      <td>42</td>\n",
       "      <td>213</td>\n",
       "      <td>459</td>\n",
       "      <td>136</td>\n",
       "      <td>209</td>\n",
       "      <td>114</td>\n",
       "      <td>14</td>\n",
       "    </tr>\n",
       "    <tr>\n",
       "      <th>1</th>\n",
       "      <td>Agoura Hills</td>\n",
       "      <td>20,490</td>\n",
       "      <td>21</td>\n",
       "      <td>0</td>\n",
       "      <td>6</td>\n",
       "      <td>4</td>\n",
       "      <td>11</td>\n",
       "      <td>306</td>\n",
       "      <td>66</td>\n",
       "      <td>223</td>\n",
       "      <td>17</td>\n",
       "      <td>0</td>\n",
       "    </tr>\n",
       "    <tr>\n",
       "      <th>2</th>\n",
       "      <td>Alameda</td>\n",
       "      <td>78,907</td>\n",
       "      <td>162</td>\n",
       "      <td>0</td>\n",
       "      <td>7</td>\n",
       "      <td>94</td>\n",
       "      <td>61</td>\n",
       "      <td>2,579</td>\n",
       "      <td>218</td>\n",
       "      <td>1,958</td>\n",
       "      <td>403</td>\n",
       "      <td>29</td>\n",
       "    </tr>\n",
       "    <tr>\n",
       "      <th>3</th>\n",
       "      <td>Albany</td>\n",
       "      <td>20,083</td>\n",
       "      <td>40</td>\n",
       "      <td>0</td>\n",
       "      <td>8</td>\n",
       "      <td>21</td>\n",
       "      <td>11</td>\n",
       "      <td>685</td>\n",
       "      <td>105</td>\n",
       "      <td>534</td>\n",
       "      <td>46</td>\n",
       "      <td>1</td>\n",
       "    </tr>\n",
       "    <tr>\n",
       "      <th>4</th>\n",
       "      <td>Alhambra</td>\n",
       "      <td>84,837</td>\n",
       "      <td>161</td>\n",
       "      <td>2</td>\n",
       "      <td>11</td>\n",
       "      <td>89</td>\n",
       "      <td>59</td>\n",
       "      <td>1,749</td>\n",
       "      <td>259</td>\n",
       "      <td>1,303</td>\n",
       "      <td>187</td>\n",
       "      <td>8</td>\n",
       "    </tr>\n",
       "  </tbody>\n",
       "</table>\n",
       "</div>"
      ],
      "text/plain": [
       "           City Population Violent\\ncrime  \\\n",
       "0      Adelanto     34,491            276   \n",
       "1  Agoura Hills     20,490             21   \n",
       "2       Alameda     78,907            162   \n",
       "3        Albany     20,083             40   \n",
       "4      Alhambra     84,837            161   \n",
       "\n",
       "   Murder and\\nnonnegligent\\nmanslaughter Rape Robbery Aggravated\\nassault  \\\n",
       "0                                       1   20      42                 213   \n",
       "1                                       0    6       4                  11   \n",
       "2                                       0    7      94                  61   \n",
       "3                                       0    8      21                  11   \n",
       "4                                       2   11      89                  59   \n",
       "\n",
       "  Property\\ncrime Burglary Larceny-\\ntheft Motor\\nvehicle\\ntheft Arson  \n",
       "0             459      136             209                   114    14  \n",
       "1             306       66             223                    17     0  \n",
       "2           2,579      218           1,958                   403    29  \n",
       "3             685      105             534                    46     1  \n",
       "4           1,749      259           1,303                   187     8  "
      ]
     },
     "execution_count": 2,
     "metadata": {},
     "output_type": "execute_result"
    }
   ],
   "source": [
    "df=pd.read_csv('source_data/california.csv')\n",
    "df.head()"
   ]
  },
  {
   "cell_type": "code",
   "execution_count": 4,
   "id": "380a3e1d-cc97-45c2-93e1-ccfaeda94c18",
   "metadata": {},
   "outputs": [],
   "source": [
    "city='Adelanto, California'\n",
    "url=f'https://api.geoapify.com/v1/geocode/search?text={city}&format=json&apiKey={apiKey}'"
   ]
  },
  {
   "cell_type": "code",
   "execution_count": 6,
   "id": "99967783-9dba-4561-b3c3-c204cf074a35",
   "metadata": {
    "scrolled": true,
    "tags": []
   },
   "outputs": [
    {
     "data": {
      "text/plain": [
       "{'results': [{'datasource': {'sourcename': 'openstreetmap',\n",
       "    'attribution': '© OpenStreetMap contributors',\n",
       "    'license': 'Open Database License',\n",
       "    'url': 'https://www.openstreetmap.org/copyright'},\n",
       "   'country': 'United States',\n",
       "   'country_code': 'us',\n",
       "   'state': 'California',\n",
       "   'county': 'San Bernardino County',\n",
       "   'city': 'Adelanto',\n",
       "   'lon': -117.409215,\n",
       "   'lat': 34.5827699,\n",
       "   'state_code': 'CA',\n",
       "   'distance': 0,\n",
       "   'formatted': 'Adelanto, CA, United States of America',\n",
       "   'address_line1': 'Adelanto, CA',\n",
       "   'address_line2': 'United States of America',\n",
       "   'category': 'administrative',\n",
       "   'timezone': {'name': 'America/Los_Angeles',\n",
       "    'offset_STD': '-08:00',\n",
       "    'offset_STD_seconds': -28800,\n",
       "    'offset_DST': '-07:00',\n",
       "    'offset_DST_seconds': -25200,\n",
       "    'abbreviation_STD': 'PST',\n",
       "    'abbreviation_DST': 'PDT'},\n",
       "   'result_type': 'city',\n",
       "   'rank': {'importance': 0.6464791233868054,\n",
       "    'popularity': 2.0406982932026385,\n",
       "    'confidence': 1,\n",
       "    'confidence_city_level': 1,\n",
       "    'match_type': 'full_match'},\n",
       "   'place_id': '5117821c94305a5dc059eecb3e34984a4140f00101f901a6b4010000000000c00208',\n",
       "   'bbox': {'lon1': -117.507447,\n",
       "    'lat1': 34.506485,\n",
       "    'lon2': -117.361647,\n",
       "    'lat2': 34.6752108}}],\n",
       " 'query': {'text': 'Adelanto, California',\n",
       "  'parsed': {'city': 'adelanto',\n",
       "   'state': 'california',\n",
       "   'expected_type': 'city'}}}"
      ]
     },
     "execution_count": 6,
     "metadata": {},
     "output_type": "execute_result"
    }
   ],
   "source": [
    "response=requests.get(url)\n",
    "data=response.json()\n",
    "data"
   ]
  },
  {
   "cell_type": "code",
   "execution_count": 8,
   "id": "934983b7-ed64-41a9-8176-f1139a5e6967",
   "metadata": {},
   "outputs": [],
   "source": [
    "lat=data['results'][0]['lat']\n",
    "lon=data['results'][0]['lon']"
   ]
  },
  {
   "cell_type": "code",
   "execution_count": 12,
   "id": "818dabb0-4727-4e94-8960-ab55eea61b7c",
   "metadata": {},
   "outputs": [],
   "source": [
    "for idx, row in df.head(50).iterrows(): \n",
    "    city=f'{row[\"City\"]}, California'\n",
    "    url=f'https://api.geoapify.com/v1/geocode/search?text={city}&format=json&apiKey={apiKey}'\n",
    "    response=requests.get(url)\n",
    "    data=response.json()\n",
    "    lat=data['results'][0]['lat']\n",
    "    lon=data['results'][0]['lon']\n",
    "    df.loc[idx, 'lat']=lat\n",
    "    df.loc[idx, 'lon']=lon"
   ]
  },
  {
   "cell_type": "code",
   "execution_count": 14,
   "id": "2b208702-713e-44b3-92b1-9aaaf5812b19",
   "metadata": {},
   "outputs": [],
   "source": [
    "df.to_csv('static/data/data.csv', index=False)"
   ]
  },
  {
   "cell_type": "code",
   "execution_count": 29,
   "id": "8c89116b-2e42-40f9-84f0-82fafe4e0cab",
   "metadata": {},
   "outputs": [
    {
     "data": {
      "text/html": [
       "<div>\n",
       "<style scoped>\n",
       "    .dataframe tbody tr th:only-of-type {\n",
       "        vertical-align: middle;\n",
       "    }\n",
       "\n",
       "    .dataframe tbody tr th {\n",
       "        vertical-align: top;\n",
       "    }\n",
       "\n",
       "    .dataframe thead th {\n",
       "        text-align: right;\n",
       "    }\n",
       "</style>\n",
       "<table border=\"1\" class=\"dataframe\">\n",
       "  <thead>\n",
       "    <tr style=\"text-align: right;\">\n",
       "      <th></th>\n",
       "      <th>City</th>\n",
       "      <th>Population</th>\n",
       "      <th>Violent\\ncrime</th>\n",
       "      <th>Murder and\\nnonnegligent\\nmanslaughter</th>\n",
       "      <th>Rape</th>\n",
       "      <th>Robbery</th>\n",
       "      <th>Aggravated\\nassault</th>\n",
       "      <th>Property\\ncrime</th>\n",
       "      <th>Burglary</th>\n",
       "      <th>Larceny-\\ntheft</th>\n",
       "      <th>Motor\\nvehicle\\ntheft</th>\n",
       "      <th>Arson</th>\n",
       "      <th>lat</th>\n",
       "      <th>lon</th>\n",
       "    </tr>\n",
       "  </thead>\n",
       "  <tbody>\n",
       "    <tr>\n",
       "      <th>427</th>\n",
       "      <td>Vernon</td>\n",
       "      <td>112</td>\n",
       "      <td>27</td>\n",
       "      <td>0</td>\n",
       "      <td>1</td>\n",
       "      <td>12</td>\n",
       "      <td>14</td>\n",
       "      <td>485</td>\n",
       "      <td>133</td>\n",
       "      <td>272</td>\n",
       "      <td>80</td>\n",
       "      <td>5</td>\n",
       "      <td>NaN</td>\n",
       "      <td>NaN</td>\n",
       "    </tr>\n",
       "  </tbody>\n",
       "</table>\n",
       "</div>"
      ],
      "text/plain": [
       "       City Population Violent\\ncrime  Murder and\\nnonnegligent\\nmanslaughter  \\\n",
       "427  Vernon        112             27                                       0   \n",
       "\n",
       "    Rape Robbery Aggravated\\nassault Property\\ncrime Burglary Larceny-\\ntheft  \\\n",
       "427    1      12                  14             485      133             272   \n",
       "\n",
       "    Motor\\nvehicle\\ntheft Arson  lat  lon  \n",
       "427                    80     5  NaN  NaN  "
      ]
     },
     "execution_count": 29,
     "metadata": {},
     "output_type": "execute_result"
    }
   ],
   "source": [
    "df[df['City']=='Vernon']"
   ]
  },
  {
   "cell_type": "code",
   "execution_count": 17,
   "id": "0f8387f8-dd05-4bab-b2d6-f32c6de12bba",
   "metadata": {},
   "outputs": [],
   "source": [
    "engine=sql.create_engine('sqlite:///static/data/db.sqlite')"
   ]
  },
  {
   "cell_type": "code",
   "execution_count": 20,
   "id": "bbe1263d-c4fc-4b93-a348-7f96d2bddc5d",
   "metadata": {},
   "outputs": [
    {
     "data": {
      "text/plain": [
       "Index(['City', 'Population', 'Violent\\ncrime',\n",
       "       'Murder and\\nnonnegligent\\nmanslaughter', 'Rape', 'Robbery',\n",
       "       'Aggravated\\nassault', 'Property\\ncrime', 'Burglary', 'Larceny-\\ntheft',\n",
       "       'Motor\\nvehicle\\ntheft', 'Arson', 'lat', 'lon'],\n",
       "      dtype='object')"
      ]
     },
     "execution_count": 20,
     "metadata": {},
     "output_type": "execute_result"
    }
   ],
   "source": [
    "df.columns"
   ]
  },
  {
   "cell_type": "code",
   "execution_count": 19,
   "id": "4097771c-bcbc-4bdb-aa19-f20e3a7ae61c",
   "metadata": {},
   "outputs": [],
   "source": [
    "df.to_sql('crime', con=engine, index=False, if_exists='replace')"
   ]
  },
  {
   "cell_type": "code",
   "execution_count": 22,
   "id": "25e54b83-40f2-43da-8ce6-f24e3b50135c",
   "metadata": {},
   "outputs": [
    {
     "data": {
      "text/plain": [
       "list"
      ]
     },
     "execution_count": 22,
     "metadata": {},
     "output_type": "execute_result"
    }
   ],
   "source": [
    "results=engine.execute('select * from crime').all()\n",
    "type(results)"
   ]
  },
  {
   "cell_type": "code",
   "execution_count": 25,
   "id": "a0edf9ca-6fec-459a-ac72-bf127012f3b9",
   "metadata": {},
   "outputs": [],
   "source": [
    "data=[]\n",
    "for each_result in results: \n",
    "    data.append(list(each_result))"
   ]
  },
  {
   "cell_type": "code",
   "execution_count": 28,
   "id": "7c149229-788f-4f80-a015-f73528cc5556",
   "metadata": {},
   "outputs": [
    {
     "data": {
      "text/plain": [
       "['Yucca Valley',\n",
       " '21,858',\n",
       " '160',\n",
       " 0,\n",
       " '9',\n",
       " '25',\n",
       " '126',\n",
       " '292',\n",
       " '84',\n",
       " '157',\n",
       " '51',\n",
       " '3',\n",
       " None,\n",
       " None]"
      ]
     },
     "execution_count": 28,
     "metadata": {},
     "output_type": "execute_result"
    }
   ],
   "source": [
    "data[-1]"
   ]
  },
  {
   "cell_type": "code",
   "execution_count": null,
   "id": "0e3ea73a-978e-4bb3-b554-94b34fb53cbb",
   "metadata": {},
   "outputs": [],
   "source": []
  }
 ],
 "metadata": {
  "kernelspec": {
   "display_name": "Python 3 (ipykernel)",
   "language": "python",
   "name": "python3"
  },
  "language_info": {
   "codemirror_mode": {
    "name": "ipython",
    "version": 3
   },
   "file_extension": ".py",
   "mimetype": "text/x-python",
   "name": "python",
   "nbconvert_exporter": "python",
   "pygments_lexer": "ipython3",
   "version": "3.7.11"
  }
 },
 "nbformat": 4,
 "nbformat_minor": 5
}
